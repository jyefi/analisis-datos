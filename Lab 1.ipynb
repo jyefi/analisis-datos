{
 "cells": [
  {
   "cell_type": "markdown",
   "metadata": {},
   "source": [
    "### Carga de Datos"
   ]
  },
  {
   "cell_type": "code",
   "execution_count": 1,
   "metadata": {},
   "outputs": [],
   "source": [
    "hepa <- read.csv(url(\"https://archive.ics.uci.edu/ml/machine-learning-databases/hepatitis/hepatitis.data\"), header=FALSE)"
   ]
  },
  {
   "cell_type": "code",
   "execution_count": 2,
   "metadata": {},
   "outputs": [
    {
     "data": {
      "text/html": [
       "<table>\n",
       "<thead><tr><th scope=col>V1</th><th scope=col>V2</th><th scope=col>V3</th><th scope=col>V4</th><th scope=col>V5</th><th scope=col>V6</th><th scope=col>V7</th><th scope=col>V8</th><th scope=col>V9</th><th scope=col>V10</th><th scope=col>V11</th><th scope=col>V12</th><th scope=col>V13</th><th scope=col>V14</th><th scope=col>V15</th><th scope=col>V16</th><th scope=col>V17</th><th scope=col>V18</th><th scope=col>V19</th><th scope=col>V20</th></tr></thead>\n",
       "<tbody>\n",
       "\t<tr><td>2   </td><td>30  </td><td>2   </td><td>1   </td><td>2   </td><td>2   </td><td>2   </td><td>2   </td><td>1   </td><td>2   </td><td>2   </td><td>2   </td><td>2   </td><td>2   </td><td>1.00</td><td>85  </td><td>18  </td><td>4.0 </td><td>?   </td><td>1   </td></tr>\n",
       "\t<tr><td>2   </td><td>50  </td><td>1   </td><td>1   </td><td>2   </td><td>1   </td><td>2   </td><td>2   </td><td>1   </td><td>2   </td><td>2   </td><td>2   </td><td>2   </td><td>2   </td><td>0.90</td><td>135 </td><td>42  </td><td>3.5 </td><td>?   </td><td>1   </td></tr>\n",
       "\t<tr><td>2   </td><td>78  </td><td>1   </td><td>2   </td><td>2   </td><td>1   </td><td>2   </td><td>2   </td><td>2   </td><td>2   </td><td>2   </td><td>2   </td><td>2   </td><td>2   </td><td>0.70</td><td>96  </td><td>32  </td><td>4.0 </td><td>?   </td><td>1   </td></tr>\n",
       "\t<tr><td>2   </td><td>31  </td><td>1   </td><td>?   </td><td>1   </td><td>2   </td><td>2   </td><td>2   </td><td>2   </td><td>2   </td><td>2   </td><td>2   </td><td>2   </td><td>2   </td><td>0.70</td><td>46  </td><td>52  </td><td>4.0 </td><td>80  </td><td>1   </td></tr>\n",
       "\t<tr><td>2   </td><td>34  </td><td>1   </td><td>2   </td><td>2   </td><td>2   </td><td>2   </td><td>2   </td><td>2   </td><td>2   </td><td>2   </td><td>2   </td><td>2   </td><td>2   </td><td>1.00</td><td>?   </td><td>200 </td><td>4.0 </td><td>?   </td><td>1   </td></tr>\n",
       "\t<tr><td>2   </td><td>34  </td><td>1   </td><td>2   </td><td>2   </td><td>2   </td><td>2   </td><td>2   </td><td>2   </td><td>2   </td><td>2   </td><td>2   </td><td>2   </td><td>2   </td><td>0.90</td><td>95  </td><td>28  </td><td>4.0 </td><td>75  </td><td>1   </td></tr>\n",
       "</tbody>\n",
       "</table>\n"
      ],
      "text/latex": [
       "\\begin{tabular}{r|llllllllllllllllllll}\n",
       " V1 & V2 & V3 & V4 & V5 & V6 & V7 & V8 & V9 & V10 & V11 & V12 & V13 & V14 & V15 & V16 & V17 & V18 & V19 & V20\\\\\n",
       "\\hline\n",
       "\t 2    & 30   & 2    & 1    & 2    & 2    & 2    & 2    & 1    & 2    & 2    & 2    & 2    & 2    & 1.00 & 85   & 18   & 4.0  & ?    & 1   \\\\\n",
       "\t 2    & 50   & 1    & 1    & 2    & 1    & 2    & 2    & 1    & 2    & 2    & 2    & 2    & 2    & 0.90 & 135  & 42   & 3.5  & ?    & 1   \\\\\n",
       "\t 2    & 78   & 1    & 2    & 2    & 1    & 2    & 2    & 2    & 2    & 2    & 2    & 2    & 2    & 0.70 & 96   & 32   & 4.0  & ?    & 1   \\\\\n",
       "\t 2    & 31   & 1    & ?    & 1    & 2    & 2    & 2    & 2    & 2    & 2    & 2    & 2    & 2    & 0.70 & 46   & 52   & 4.0  & 80   & 1   \\\\\n",
       "\t 2    & 34   & 1    & 2    & 2    & 2    & 2    & 2    & 2    & 2    & 2    & 2    & 2    & 2    & 1.00 & ?    & 200  & 4.0  & ?    & 1   \\\\\n",
       "\t 2    & 34   & 1    & 2    & 2    & 2    & 2    & 2    & 2    & 2    & 2    & 2    & 2    & 2    & 0.90 & 95   & 28   & 4.0  & 75   & 1   \\\\\n",
       "\\end{tabular}\n"
      ],
      "text/markdown": [
       "\n",
       "| V1 | V2 | V3 | V4 | V5 | V6 | V7 | V8 | V9 | V10 | V11 | V12 | V13 | V14 | V15 | V16 | V17 | V18 | V19 | V20 |\n",
       "|---|---|---|---|---|---|---|---|---|---|---|---|---|---|---|---|---|---|---|---|\n",
       "| 2    | 30   | 2    | 1    | 2    | 2    | 2    | 2    | 1    | 2    | 2    | 2    | 2    | 2    | 1.00 | 85   | 18   | 4.0  | ?    | 1    |\n",
       "| 2    | 50   | 1    | 1    | 2    | 1    | 2    | 2    | 1    | 2    | 2    | 2    | 2    | 2    | 0.90 | 135  | 42   | 3.5  | ?    | 1    |\n",
       "| 2    | 78   | 1    | 2    | 2    | 1    | 2    | 2    | 2    | 2    | 2    | 2    | 2    | 2    | 0.70 | 96   | 32   | 4.0  | ?    | 1    |\n",
       "| 2    | 31   | 1    | ?    | 1    | 2    | 2    | 2    | 2    | 2    | 2    | 2    | 2    | 2    | 0.70 | 46   | 52   | 4.0  | 80   | 1    |\n",
       "| 2    | 34   | 1    | 2    | 2    | 2    | 2    | 2    | 2    | 2    | 2    | 2    | 2    | 2    | 1.00 | ?    | 200  | 4.0  | ?    | 1    |\n",
       "| 2    | 34   | 1    | 2    | 2    | 2    | 2    | 2    | 2    | 2    | 2    | 2    | 2    | 2    | 0.90 | 95   | 28   | 4.0  | 75   | 1    |\n",
       "\n"
      ],
      "text/plain": [
       "  V1 V2 V3 V4 V5 V6 V7 V8 V9 V10 V11 V12 V13 V14 V15  V16 V17 V18 V19 V20\n",
       "1 2  30 2  1  2  2  2  2  1  2   2   2   2   2   1.00 85  18  4.0 ?   1  \n",
       "2 2  50 1  1  2  1  2  2  1  2   2   2   2   2   0.90 135 42  3.5 ?   1  \n",
       "3 2  78 1  2  2  1  2  2  2  2   2   2   2   2   0.70 96  32  4.0 ?   1  \n",
       "4 2  31 1  ?  1  2  2  2  2  2   2   2   2   2   0.70 46  52  4.0 80  1  \n",
       "5 2  34 1  2  2  2  2  2  2  2   2   2   2   2   1.00 ?   200 4.0 ?   1  \n",
       "6 2  34 1  2  2  2  2  2  2  2   2   2   2   2   0.90 95  28  4.0 75  1  "
      ]
     },
     "metadata": {},
     "output_type": "display_data"
    }
   ],
   "source": [
    "head(hepa)"
   ]
  },
  {
   "cell_type": "code",
   "execution_count": 3,
   "metadata": {},
   "outputs": [],
   "source": [
    "columns = c(\"Class\", \"AGE\", \"SEX\", \"STEROID\", \"ANTIVIRALS\", \"FATIGUE\", \"MALAISE\", \"ANOREXIA\", \"LIVER_BIG\", \"LIVER_FIRM\", \"SPLEEN_PALPABLE\", \"SPIDERS\", \"ASCITES\", \"VARICES\", \"BILIRUBIN\", \"ALK_PHOSPHATE\", \"SGOT\", \"ALBUMIN\", \"PROTIME\", \"HISTOLOGY\")"
   ]
  },
  {
   "cell_type": "code",
   "execution_count": 4,
   "metadata": {},
   "outputs": [],
   "source": [
    "colnames(hepa) <- columns"
   ]
  },
  {
   "cell_type": "markdown",
   "metadata": {},
   "source": [
    "### Reemplazo de variables \"?\" por NA"
   ]
  },
  {
   "cell_type": "code",
   "execution_count": 5,
   "metadata": {},
   "outputs": [],
   "source": [
    "hepa$STEROID[hepa$STEROID==\"?\"] <- NA\n",
    "hepa$FATIGUE[hepa$FATIGUE==\"?\"] <- NA\n",
    "\n",
    "hepa$MALAISE[hepa$MALAISE==\"?\"] <- NA \n",
    "hepa$ANOREXIA[hepa$ANOREXIA==\"?\"] <- NA \n",
    "hepa$LIVER_BIG[hepa$LIVER_BIG==\"?\"] <- NA \n",
    "hepa$LIVER_FIRM[hepa$LIVER_FIRM==\"?\"] <- NA\n",
    "hepa$SPLEEN_PALPABLE[hepa$SPLEEN_PALPABLE==\"?\"] <- NA\n",
    "hepa$SPIDERS[hepa$SPIDERS==\"?\"] <- NA             # Arañas vasculares (Arañitas)\n",
    "hepa$ASCITES[hepa$ASCITES==\"?\"] <- NA             #Inflamación abdominal causada por la acumulación de líquido, frecuentemente relacionada con una enfermedad hepática.\n",
    "\n",
    "hepa$VARICES[hepa$VARICES==\"?\"] <- NA\n",
    "hepa$BILIRUBIN[hepa$BILIRUBIN==\"?\"] <- NA\n",
    "hepa$ALK_PHOSPHATE[hepa$ALK_PHOSPHATE==\"?\"] <- NA\n",
    "hepa$SGOT[hepa$SGOT==\"?\"] <- NA                   # Aspartato aminotransferasa o SGOT (serum glutamic-oxaloacetic transaminase)\n",
    "hepa$ALBUMIN[hepa$ALBUMIN==\"?\"] <- NA\n",
    "hepa$PROTIME[hepa$PROTIME==\"?\"] <- NA             # Prothrombin time -> La protrombina es una proteína producida por el hígado. La protrombina ayuda a que la sangre se coagule. El \"tiempo de protrombina\" (TP) es una forma de medir el tiempo que tarda la sangre en formar un coágulo, y se mide en segundos (por ejemplo, 13,2 segundos). Un TP normal indica que hay disponible una cantidad normal de proteína de coagulación sanguínea.\n",
    "\n",
    "hepa$HISTOLOGY[hepa$HISTOLOGY==\"?\"] <- NA\n"
   ]
  },
  {
   "cell_type": "code",
   "execution_count": 6,
   "metadata": {},
   "outputs": [
    {
     "name": "stdout",
     "output_type": "stream",
     "text": [
      "'data.frame':\t155 obs. of  20 variables:\n",
      " $ Class          : int  2 2 2 2 2 2 1 2 2 2 ...\n",
      " $ AGE            : int  30 50 78 31 34 34 51 23 39 30 ...\n",
      " $ SEX            : int  2 1 1 1 1 1 1 1 1 1 ...\n",
      " $ STEROID        : Factor w/ 3 levels \"?\",\"1\",\"2\": 2 2 3 NA 3 3 2 3 3 3 ...\n",
      " $ ANTIVIRALS     : int  2 2 2 1 2 2 2 2 2 2 ...\n",
      " $ FATIGUE        : Factor w/ 3 levels \"?\",\"1\",\"2\": 3 2 2 3 3 3 2 3 2 3 ...\n",
      " $ MALAISE        : Factor w/ 3 levels \"?\",\"1\",\"2\": 3 3 3 3 3 3 3 3 3 3 ...\n",
      " $ ANOREXIA       : Factor w/ 3 levels \"?\",\"1\",\"2\": 3 3 3 3 3 3 2 3 3 3 ...\n",
      " $ LIVER_BIG      : Factor w/ 3 levels \"?\",\"1\",\"2\": 2 2 3 3 3 3 3 3 3 3 ...\n",
      " $ LIVER_FIRM     : Factor w/ 3 levels \"?\",\"1\",\"2\": 3 3 3 3 3 3 3 3 2 3 ...\n",
      " $ SPLEEN_PALPABLE: Factor w/ 3 levels \"?\",\"1\",\"2\": 3 3 3 3 3 3 2 3 3 3 ...\n",
      " $ SPIDERS        : Factor w/ 3 levels \"?\",\"1\",\"2\": 3 3 3 3 3 3 2 3 3 3 ...\n",
      " $ ASCITES        : Factor w/ 3 levels \"?\",\"1\",\"2\": 3 3 3 3 3 3 3 3 3 3 ...\n",
      " $ VARICES        : Factor w/ 3 levels \"?\",\"1\",\"2\": 3 3 3 3 3 3 3 3 3 3 ...\n",
      " $ BILIRUBIN      : Factor w/ 35 levels \"?\",\"0.30\",\"0.40\",..: 9 8 6 6 9 8 NA 9 6 9 ...\n",
      " $ ALK_PHOSPHATE  : Factor w/ 84 levels \"?\",\"100\",\"102\",..: 78 19 84 51 NA 83 NA NA NA NA ...\n",
      " $ SGOT           : Factor w/ 85 levels \"?\",\"100\",\"101\",..: 26 54 48 62 31 44 NA NA 60 8 ...\n",
      " $ ALBUMIN        : Factor w/ 30 levels \"?\",\"2.1\",\"2.2\",..: 18 13 18 18 18 18 NA NA 22 17 ...\n",
      " $ PROTIME        : Factor w/ 45 levels \"?\",\"0\",\"100\",..: NA NA NA 42 NA 38 NA NA NA NA ...\n",
      " $ HISTOLOGY      : int  1 1 1 1 1 1 1 1 1 1 ...\n"
     ]
    }
   ],
   "source": [
    "str(hepa)"
   ]
  },
  {
   "cell_type": "markdown",
   "metadata": {},
   "source": [
    "### Clasificación de Variables de tipo clase"
   ]
  },
  {
   "cell_type": "code",
   "execution_count": 7,
   "metadata": {},
   "outputs": [],
   "source": [
    "#hepa$SEX = factor(hepa$SEX, levels = c(1,2), labels = c(\"MALE\", \"FEMALE\"))\n",
    "hepa$Class = factor(hepa$Class, levels = c(1,2), labels = c(\"DIE\", \"LIVE\"))\n",
    "\n",
    "#hepa$Esteroides = factor(hepa$Esteroides, levels = c(1,2), labels = c(\"No\", \"Si\"))\n",
    "#hepa$Antivirales = factor(hepa$Antivirales, levels = c(1,2), labels = c(\"No\", \"Si\"))\n",
    "#hepa$Fatiga = factor(hepa$Fatiga, levels = c(1,2), labels = c(\"No\", \"Si\"))\n",
    "#hepa$Malestar = factor(hepa$Malestar, levels = c(1,2), labels = c(\"No\", \"Si\"))\n",
    "#hepa$Anorexia = factor(hepa$Anorexia, levels = c(1,2), labels = c(\"No\", \"Si\"))\n",
    "#hepa$Higado_XL = factor(hepa$Higado_XL, levels = c(1,2), labels = c(\"No\", \"Si\"))\n",
    "#hepa$Higado_Duro = factor(hepa$Higado_Duro, levels = c(1,2), labels = c(\"No\", \"Si\"))\n",
    "#hepa$Bazo_Palp = factor(hepa$Bazo_Palp, levels = c(1,2), labels = c(\"No\", \"Si\"))\n",
    "#hepa$Aranias = factor(hepa$Aranias, levels = c(1,2), labels = c(\"No\", \"Si\"))\n",
    "#hepa$Ascitis = factor(hepa$Ascitis, levels = c(1,2), labels = c(\"No\", \"Si\"))\n",
    "#hepa$Varices = factor(hepa$Varices, levels = c(1,2), labels = c(\"No\", \"Si\"))\n",
    "#hepa$Histologia = factor(hepa$Histologia, levels = c(1,2), labels = c(\"No\", \"Si\"))"
   ]
  },
  {
   "cell_type": "markdown",
   "metadata": {},
   "source": [
    "### Conversión de variables tipo str a number"
   ]
  },
  {
   "cell_type": "code",
   "execution_count": 8,
   "metadata": {},
   "outputs": [],
   "source": [
    "hepa$STEROID <- as.numeric(as.character(hepa$STEROID))\n",
    "hepa$FATIGUE <- as.numeric(as.character(hepa$FATIGUE))\n",
    "hepa$MALAISE <- as.numeric(as.character(hepa$MALAISE))\n",
    "hepa$ANOREXIA <- as.numeric(as.character(hepa$ANOREXIA))\n",
    "hepa$LIVER_BIG <- as.numeric(as.character(hepa$LIVER_BIG))\n",
    "hepa$LIVER_FIRM <- as.numeric(as.character(hepa$LIVER_FIRM))     \n",
    "hepa$SPLEEN_PALPABLE <- as.numeric(as.character(hepa$SPLEEN_PALPABLE))\n",
    "hepa$SPIDERS <- as.numeric(as.character(hepa$SPIDERS))\n",
    "hepa$ASCITES <- as.numeric(as.character(hepa$ASCITES))\n",
    "hepa$VARICES <- as.numeric(as.character(hepa$VARICES))\n",
    "hepa$BILIRUBIN <- as.numeric(as.character(hepa$BILIRUBIN))\n",
    "hepa$ALK_PHOSPHATE <- as.numeric(as.character(hepa$ALK_PHOSPHATE))\n",
    "hepa$SGOT <- as.numeric(as.character(hepa$SGOT))\n",
    "hepa$ALBUMIN <- as.numeric(as.character(hepa$ALBUMIN))\n",
    "hepa$PROTIME <- as.numeric(as.character(hepa$PROTIME))"
   ]
  },
  {
   "cell_type": "markdown",
   "metadata": {},
   "source": [
    "### Resumen de Datos y métricas generales del dataset"
   ]
  },
  {
   "cell_type": "code",
   "execution_count": 9,
   "metadata": {},
   "outputs": [
    {
     "data": {
      "text/plain": [
       "  Class          AGE            SEX           STEROID        ANTIVIRALS   \n",
       " DIE : 32   Min.   : 7.0   Min.   :1.000   Min.   :1.000   Min.   :1.000  \n",
       " LIVE:123   1st Qu.:32.0   1st Qu.:1.000   1st Qu.:1.000   1st Qu.:2.000  \n",
       "            Median :39.0   Median :1.000   Median :2.000   Median :2.000  \n",
       "            Mean   :41.2   Mean   :1.103   Mean   :1.506   Mean   :1.845  \n",
       "            3rd Qu.:50.0   3rd Qu.:1.000   3rd Qu.:2.000   3rd Qu.:2.000  \n",
       "            Max.   :78.0   Max.   :2.000   Max.   :2.000   Max.   :2.000  \n",
       "                                           NA's   :1                      \n",
       "    FATIGUE         MALAISE         ANOREXIA       LIVER_BIG    \n",
       " Min.   :1.000   Min.   :1.000   Min.   :1.000   Min.   :1.000  \n",
       " 1st Qu.:1.000   1st Qu.:1.000   1st Qu.:2.000   1st Qu.:2.000  \n",
       " Median :1.000   Median :2.000   Median :2.000   Median :2.000  \n",
       " Mean   :1.351   Mean   :1.604   Mean   :1.792   Mean   :1.828  \n",
       " 3rd Qu.:2.000   3rd Qu.:2.000   3rd Qu.:2.000   3rd Qu.:2.000  \n",
       " Max.   :2.000   Max.   :2.000   Max.   :2.000   Max.   :2.000  \n",
       " NA's   :1       NA's   :1       NA's   :1       NA's   :10     \n",
       "   LIVER_FIRM    SPLEEN_PALPABLE    SPIDERS        ASCITES         VARICES    \n",
       " Min.   :1.000   Min.   :1.0     Min.   :1.00   Min.   :1.000   Min.   :1.00  \n",
       " 1st Qu.:1.000   1st Qu.:2.0     1st Qu.:1.00   1st Qu.:2.000   1st Qu.:2.00  \n",
       " Median :2.000   Median :2.0     Median :2.00   Median :2.000   Median :2.00  \n",
       " Mean   :1.583   Mean   :1.8     Mean   :1.66   Mean   :1.867   Mean   :1.88  \n",
       " 3rd Qu.:2.000   3rd Qu.:2.0     3rd Qu.:2.00   3rd Qu.:2.000   3rd Qu.:2.00  \n",
       " Max.   :2.000   Max.   :2.0     Max.   :2.00   Max.   :2.000   Max.   :2.00  \n",
       " NA's   :11      NA's   :5       NA's   :5      NA's   :5       NA's   :5     \n",
       "   BILIRUBIN     ALK_PHOSPHATE         SGOT           ALBUMIN     \n",
       " Min.   :0.300   Min.   : 26.00   Min.   : 14.00   Min.   :2.100  \n",
       " 1st Qu.:0.700   1st Qu.: 74.25   1st Qu.: 31.50   1st Qu.:3.400  \n",
       " Median :1.000   Median : 85.00   Median : 58.00   Median :4.000  \n",
       " Mean   :1.428   Mean   :105.33   Mean   : 85.89   Mean   :3.817  \n",
       " 3rd Qu.:1.500   3rd Qu.:132.25   3rd Qu.:100.50   3rd Qu.:4.200  \n",
       " Max.   :8.000   Max.   :295.00   Max.   :648.00   Max.   :6.400  \n",
       " NA's   :6       NA's   :29       NA's   :4        NA's   :16     \n",
       "    PROTIME         HISTOLOGY    \n",
       " Min.   :  0.00   Min.   :1.000  \n",
       " 1st Qu.: 46.00   1st Qu.:1.000  \n",
       " Median : 61.00   Median :1.000  \n",
       " Mean   : 61.85   Mean   :1.452  \n",
       " 3rd Qu.: 76.25   3rd Qu.:2.000  \n",
       " Max.   :100.00   Max.   :2.000  \n",
       " NA's   :67                      "
      ]
     },
     "metadata": {},
     "output_type": "display_data"
    }
   ],
   "source": [
    "summary(hepa)"
   ]
  },
  {
   "cell_type": "markdown",
   "metadata": {},
   "source": [
    "###  Modas *(sin NA)*"
   ]
  },
  {
   "cell_type": "code",
   "execution_count": 10,
   "metadata": {},
   "outputs": [
    {
     "data": {
      "text/html": [
       "'Moda de AGE = 30'"
      ],
      "text/latex": [
       "'Moda de AGE = 30'"
      ],
      "text/markdown": [
       "'Moda de AGE = 30'"
      ],
      "text/plain": [
       "[1] \"Moda de AGE = 30\""
      ]
     },
     "metadata": {},
     "output_type": "display_data"
    },
    {
     "data": {
      "text/html": [
       "'Moda de Bilirrubina = 1'"
      ],
      "text/latex": [
       "'Moda de Bilirrubina = 1'"
      ],
      "text/markdown": [
       "'Moda de Bilirrubina = 1'"
      ],
      "text/plain": [
       "[1] \"Moda de Bilirrubina = 1\""
      ]
     },
     "metadata": {},
     "output_type": "display_data"
    },
    {
     "data": {
      "text/html": [
       "'Moda de Fosfatasa_alk = 85'"
      ],
      "text/latex": [
       "'Moda de Fosfatasa\\_alk = 85'"
      ],
      "text/markdown": [
       "'Moda de Fosfatasa_alk = 85'"
      ],
      "text/plain": [
       "[1] \"Moda de Fosfatasa_alk = 85\""
      ]
     },
     "metadata": {},
     "output_type": "display_data"
    },
    {
     "data": {
      "text/html": [
       "'Moda de SGOT = 20'"
      ],
      "text/latex": [
       "'Moda de SGOT = 20'"
      ],
      "text/markdown": [
       "'Moda de SGOT = 20'"
      ],
      "text/plain": [
       "[1] \"Moda de SGOT = 20\""
      ]
     },
     "metadata": {},
     "output_type": "display_data"
    },
    {
     "data": {
      "text/html": [
       "'Moda de Albumina = 4'"
      ],
      "text/latex": [
       "'Moda de Albumina = 4'"
      ],
      "text/markdown": [
       "'Moda de Albumina = 4'"
      ],
      "text/plain": [
       "[1] \"Moda de Albumina = 4\""
      ]
     },
     "metadata": {},
     "output_type": "display_data"
    },
    {
     "data": {
      "text/html": [
       "'Moda de ProTime = 100'"
      ],
      "text/latex": [
       "'Moda de ProTime = 100'"
      ],
      "text/markdown": [
       "'Moda de ProTime = 100'"
      ],
      "text/plain": [
       "[1] \"Moda de ProTime = 100\""
      ]
     },
     "metadata": {},
     "output_type": "display_data"
    }
   ],
   "source": [
    "frecuencias <- data.frame(table(hepa$AGE))\n",
    "moda <- frecuencias[which.max(frecuencias$Freq),1]\n",
    "paste(\"Moda de AGE =\", moda)\n",
    "\n",
    "frecuencias <- data.frame(table(hepa$BILIRUBIN))\n",
    "moda <- frecuencias[which.max(frecuencias$Freq),1]\n",
    "paste(\"Moda de Bilirrubina =\", moda)\n",
    "\n",
    "frecuencias <- data.frame(table(hepa$ALK_PHOSPHATE))\n",
    "moda <- frecuencias[which.max(frecuencias$Freq),1]\n",
    "paste(\"Moda de Fosfatasa_alk =\", moda)\n",
    "\n",
    "frecuencias <- data.frame(table(hepa$SGOT))\n",
    "moda <- frecuencias[which.max(frecuencias$Freq),1]\n",
    "paste(\"Moda de SGOT =\", moda)\n",
    "\n",
    "frecuencias <- data.frame(table(hepa$ALBUMIN))\n",
    "moda <- frecuencias[which.max(frecuencias$Freq),1]\n",
    "paste(\"Moda de Albumina =\", moda)\n",
    "\n",
    "frecuencias <- data.frame(table(hepa$PROTIME))\n",
    "moda <- frecuencias[which.max(frecuencias$Freq),1]\n",
    "paste(\"Moda de ProTime =\", moda)"
   ]
  },
  {
   "cell_type": "markdown",
   "metadata": {},
   "source": [
    "###  Promedios *(sin NA)*"
   ]
  },
  {
   "cell_type": "code",
   "execution_count": 11,
   "metadata": {},
   "outputs": [
    {
     "data": {
      "text/html": [
       "<span style=white-space:pre-wrap>'Promedio Edad =  41.2'</span>"
      ],
      "text/latex": [
       "'Promedio Edad =  41.2'"
      ],
      "text/markdown": [
       "<span style=white-space:pre-wrap>'Promedio Edad =  41.2'</span>"
      ],
      "text/plain": [
       "[1] \"Promedio Edad =  41.2\""
      ]
     },
     "metadata": {},
     "output_type": "display_data"
    },
    {
     "data": {
      "text/html": [
       "<span style=white-space:pre-wrap>'Promedio Bilirrubina =  1.42751677852349'</span>"
      ],
      "text/latex": [
       "'Promedio Bilirrubina =  1.42751677852349'"
      ],
      "text/markdown": [
       "<span style=white-space:pre-wrap>'Promedio Bilirrubina =  1.42751677852349'</span>"
      ],
      "text/plain": [
       "[1] \"Promedio Bilirrubina =  1.42751677852349\""
      ]
     },
     "metadata": {},
     "output_type": "display_data"
    },
    {
     "data": {
      "text/html": [
       "<span style=white-space:pre-wrap>'Promedio Fosfatasa_alk =  105.325396825397'</span>"
      ],
      "text/latex": [
       "'Promedio Fosfatasa\\_alk =  105.325396825397'"
      ],
      "text/markdown": [
       "<span style=white-space:pre-wrap>'Promedio Fosfatasa_alk =  105.325396825397'</span>"
      ],
      "text/plain": [
       "[1] \"Promedio Fosfatasa_alk =  105.325396825397\""
      ]
     },
     "metadata": {},
     "output_type": "display_data"
    },
    {
     "data": {
      "text/html": [
       "<span style=white-space:pre-wrap>'Promedio SGOT =  85.8940397350993'</span>"
      ],
      "text/latex": [
       "'Promedio SGOT =  85.8940397350993'"
      ],
      "text/markdown": [
       "<span style=white-space:pre-wrap>'Promedio SGOT =  85.8940397350993'</span>"
      ],
      "text/plain": [
       "[1] \"Promedio SGOT =  85.8940397350993\""
      ]
     },
     "metadata": {},
     "output_type": "display_data"
    },
    {
     "data": {
      "text/html": [
       "<span style=white-space:pre-wrap>'Promedio Albumina =  3.81726618705036'</span>"
      ],
      "text/latex": [
       "'Promedio Albumina =  3.81726618705036'"
      ],
      "text/markdown": [
       "<span style=white-space:pre-wrap>'Promedio Albumina =  3.81726618705036'</span>"
      ],
      "text/plain": [
       "[1] \"Promedio Albumina =  3.81726618705036\""
      ]
     },
     "metadata": {},
     "output_type": "display_data"
    },
    {
     "data": {
      "text/html": [
       "<span style=white-space:pre-wrap>'Promedio ProTime =  61.8522727272727'</span>"
      ],
      "text/latex": [
       "'Promedio ProTime =  61.8522727272727'"
      ],
      "text/markdown": [
       "<span style=white-space:pre-wrap>'Promedio ProTime =  61.8522727272727'</span>"
      ],
      "text/plain": [
       "[1] \"Promedio ProTime =  61.8522727272727\""
      ]
     },
     "metadata": {},
     "output_type": "display_data"
    }
   ],
   "source": [
    "paste(\"Promedio Edad = \", mean(hepa$AGE))\n",
    "paste(\"Promedio Bilirrubina = \" , mean(hepa$BILIRUBIN, na.rm=TRUE))\n",
    "paste(\"Promedio Fosfatasa_alk = \" , mean(hepa$ALK_PHOSPHATE, na.rm=TRUE))\n",
    "paste(\"Promedio SGOT = \" , mean(hepa$SGOT, na.rm=TRUE))\n",
    "paste(\"Promedio Albumina = \" , mean(hepa$ALBUMIN, na.rm=TRUE))\n",
    "paste(\"Promedio ProTime = \" , mean(hepa$PROTIME, na.rm=TRUE))"
   ]
  },
  {
   "cell_type": "markdown",
   "metadata": {},
   "source": [
    "###  Medianas *(sin NA)*"
   ]
  },
  {
   "cell_type": "code",
   "execution_count": 12,
   "metadata": {},
   "outputs": [
    {
     "data": {
      "text/html": [
       "<span style=white-space:pre-wrap>'Mediana Edad =  39'</span>"
      ],
      "text/latex": [
       "'Mediana Edad =  39'"
      ],
      "text/markdown": [
       "<span style=white-space:pre-wrap>'Mediana Edad =  39'</span>"
      ],
      "text/plain": [
       "[1] \"Mediana Edad =  39\""
      ]
     },
     "metadata": {},
     "output_type": "display_data"
    },
    {
     "data": {
      "text/html": [
       "<span style=white-space:pre-wrap>'Mediana Bilirrubina =  1'</span>"
      ],
      "text/latex": [
       "'Mediana Bilirrubina =  1'"
      ],
      "text/markdown": [
       "<span style=white-space:pre-wrap>'Mediana Bilirrubina =  1'</span>"
      ],
      "text/plain": [
       "[1] \"Mediana Bilirrubina =  1\""
      ]
     },
     "metadata": {},
     "output_type": "display_data"
    },
    {
     "data": {
      "text/html": [
       "<span style=white-space:pre-wrap>'Mediana Fosfatasa_alk =  85'</span>"
      ],
      "text/latex": [
       "'Mediana Fosfatasa\\_alk =  85'"
      ],
      "text/markdown": [
       "<span style=white-space:pre-wrap>'Mediana Fosfatasa_alk =  85'</span>"
      ],
      "text/plain": [
       "[1] \"Mediana Fosfatasa_alk =  85\""
      ]
     },
     "metadata": {},
     "output_type": "display_data"
    },
    {
     "data": {
      "text/html": [
       "<span style=white-space:pre-wrap>'Mediana SGOT =  58'</span>"
      ],
      "text/latex": [
       "'Mediana SGOT =  58'"
      ],
      "text/markdown": [
       "<span style=white-space:pre-wrap>'Mediana SGOT =  58'</span>"
      ],
      "text/plain": [
       "[1] \"Mediana SGOT =  58\""
      ]
     },
     "metadata": {},
     "output_type": "display_data"
    },
    {
     "data": {
      "text/html": [
       "<span style=white-space:pre-wrap>'Mediana Albumina =  4'</span>"
      ],
      "text/latex": [
       "'Mediana Albumina =  4'"
      ],
      "text/markdown": [
       "<span style=white-space:pre-wrap>'Mediana Albumina =  4'</span>"
      ],
      "text/plain": [
       "[1] \"Mediana Albumina =  4\""
      ]
     },
     "metadata": {},
     "output_type": "display_data"
    },
    {
     "data": {
      "text/html": [
       "<span style=white-space:pre-wrap>'Mediana ProTime =  61'</span>"
      ],
      "text/latex": [
       "'Mediana ProTime =  61'"
      ],
      "text/markdown": [
       "<span style=white-space:pre-wrap>'Mediana ProTime =  61'</span>"
      ],
      "text/plain": [
       "[1] \"Mediana ProTime =  61\""
      ]
     },
     "metadata": {},
     "output_type": "display_data"
    }
   ],
   "source": [
    "paste(\"Mediana Edad = \", median(hepa$AGE))\n",
    "paste(\"Mediana Bilirrubina = \" , median(hepa$BILIRUBIN, na.rm=TRUE))\n",
    "paste(\"Mediana Fosfatasa_alk = \" , median(hepa$ALK_PHOSPHATE, na.rm=TRUE))\n",
    "paste(\"Mediana SGOT = \" , median(hepa$SGOT, na.rm=TRUE))\n",
    "paste(\"Mediana Albumina = \" , median(hepa$ALBUMIN, na.rm=TRUE))\n",
    "paste(\"Mediana ProTime = \" , median(hepa$PROTIME, na.rm=TRUE))"
   ]
  },
  {
   "cell_type": "markdown",
   "metadata": {},
   "source": [
    "###  Valores nulos"
   ]
  },
  {
   "cell_type": "code",
   "execution_count": 13,
   "metadata": {},
   "outputs": [
    {
     "data": {
      "text/plain": [
       "   Mode   FALSE    TRUE \n",
       "logical      75      80 "
      ]
     },
     "metadata": {},
     "output_type": "display_data"
    }
   ],
   "source": [
    "summary(complete.cases(hepa))"
   ]
  },
  {
   "cell_type": "code",
   "execution_count": 14,
   "metadata": {},
   "outputs": [
    {
     "data": {
      "text/html": [
       "<table>\n",
       "<thead><tr><th></th><th scope=col>Class</th><th scope=col>AGE</th><th scope=col>SEX</th><th scope=col>STEROID</th><th scope=col>ANTIVIRALS</th><th scope=col>FATIGUE</th><th scope=col>MALAISE</th><th scope=col>ANOREXIA</th><th scope=col>LIVER_BIG</th><th scope=col>LIVER_FIRM</th><th scope=col>SPLEEN_PALPABLE</th><th scope=col>SPIDERS</th><th scope=col>ASCITES</th><th scope=col>VARICES</th><th scope=col>BILIRUBIN</th><th scope=col>ALK_PHOSPHATE</th><th scope=col>SGOT</th><th scope=col>ALBUMIN</th><th scope=col>PROTIME</th><th scope=col>HISTOLOGY</th></tr></thead>\n",
       "<tbody>\n",
       "\t<tr><th scope=row>6</th><td>LIVE</td><td>34  </td><td>1   </td><td>2   </td><td>2   </td><td>2   </td><td>2   </td><td>2   </td><td>2   </td><td>2   </td><td>2   </td><td>2   </td><td>2   </td><td>2   </td><td>0.9 </td><td>95  </td><td> 28 </td><td>4.0 </td><td>75  </td><td>1   </td></tr>\n",
       "\t<tr><th scope=row>11</th><td>LIVE</td><td>39  </td><td>1   </td><td>1   </td><td>1   </td><td>2   </td><td>2   </td><td>2   </td><td>1   </td><td>1   </td><td>2   </td><td>2   </td><td>2   </td><td>2   </td><td>1.3 </td><td>78  </td><td> 30 </td><td>4.4 </td><td>85  </td><td>1   </td></tr>\n",
       "\t<tr><th scope=row>12</th><td>LIVE</td><td>32  </td><td>1   </td><td>2   </td><td>1   </td><td>1   </td><td>2   </td><td>2   </td><td>2   </td><td>1   </td><td>2   </td><td>1   </td><td>2   </td><td>2   </td><td>1.0 </td><td>59  </td><td>249 </td><td>3.7 </td><td>54  </td><td>1   </td></tr>\n",
       "\t<tr><th scope=row>13</th><td>LIVE</td><td>41  </td><td>1   </td><td>2   </td><td>1   </td><td>1   </td><td>2   </td><td>2   </td><td>2   </td><td>1   </td><td>2   </td><td>2   </td><td>2   </td><td>2   </td><td>0.9 </td><td>81  </td><td> 60 </td><td>3.9 </td><td>52  </td><td>1   </td></tr>\n",
       "\t<tr><th scope=row>14</th><td>LIVE</td><td>30  </td><td>1   </td><td>2   </td><td>2   </td><td>1   </td><td>2   </td><td>2   </td><td>2   </td><td>1   </td><td>2   </td><td>2   </td><td>2   </td><td>2   </td><td>2.2 </td><td>57  </td><td>144 </td><td>4.9 </td><td>78  </td><td>1   </td></tr>\n",
       "\t<tr><th scope=row>16</th><td>LIVE</td><td>38  </td><td>1   </td><td>1   </td><td>2   </td><td>1   </td><td>1   </td><td>1   </td><td>2   </td><td>2   </td><td>2   </td><td>2   </td><td>1   </td><td>2   </td><td>2.0 </td><td>72  </td><td> 89 </td><td>2.9 </td><td>46  </td><td>1   </td></tr>\n",
       "</tbody>\n",
       "</table>\n"
      ],
      "text/latex": [
       "\\begin{tabular}{r|llllllllllllllllllll}\n",
       "  & Class & AGE & SEX & STEROID & ANTIVIRALS & FATIGUE & MALAISE & ANOREXIA & LIVER\\_BIG & LIVER\\_FIRM & SPLEEN\\_PALPABLE & SPIDERS & ASCITES & VARICES & BILIRUBIN & ALK\\_PHOSPHATE & SGOT & ALBUMIN & PROTIME & HISTOLOGY\\\\\n",
       "\\hline\n",
       "\t6 & LIVE & 34   & 1    & 2    & 2    & 2    & 2    & 2    & 2    & 2    & 2    & 2    & 2    & 2    & 0.9  & 95   &  28  & 4.0  & 75   & 1   \\\\\n",
       "\t11 & LIVE & 39   & 1    & 1    & 1    & 2    & 2    & 2    & 1    & 1    & 2    & 2    & 2    & 2    & 1.3  & 78   &  30  & 4.4  & 85   & 1   \\\\\n",
       "\t12 & LIVE & 32   & 1    & 2    & 1    & 1    & 2    & 2    & 2    & 1    & 2    & 1    & 2    & 2    & 1.0  & 59   & 249  & 3.7  & 54   & 1   \\\\\n",
       "\t13 & LIVE & 41   & 1    & 2    & 1    & 1    & 2    & 2    & 2    & 1    & 2    & 2    & 2    & 2    & 0.9  & 81   &  60  & 3.9  & 52   & 1   \\\\\n",
       "\t14 & LIVE & 30   & 1    & 2    & 2    & 1    & 2    & 2    & 2    & 1    & 2    & 2    & 2    & 2    & 2.2  & 57   & 144  & 4.9  & 78   & 1   \\\\\n",
       "\t16 & LIVE & 38   & 1    & 1    & 2    & 1    & 1    & 1    & 2    & 2    & 2    & 2    & 1    & 2    & 2.0  & 72   &  89  & 2.9  & 46   & 1   \\\\\n",
       "\\end{tabular}\n"
      ],
      "text/markdown": [
       "\n",
       "| <!--/--> | Class | AGE | SEX | STEROID | ANTIVIRALS | FATIGUE | MALAISE | ANOREXIA | LIVER_BIG | LIVER_FIRM | SPLEEN_PALPABLE | SPIDERS | ASCITES | VARICES | BILIRUBIN | ALK_PHOSPHATE | SGOT | ALBUMIN | PROTIME | HISTOLOGY |\n",
       "|---|---|---|---|---|---|---|---|---|---|---|---|---|---|---|---|---|---|---|---|---|\n",
       "| 6 | LIVE | 34   | 1    | 2    | 2    | 2    | 2    | 2    | 2    | 2    | 2    | 2    | 2    | 2    | 0.9  | 95   |  28  | 4.0  | 75   | 1    |\n",
       "| 11 | LIVE | 39   | 1    | 1    | 1    | 2    | 2    | 2    | 1    | 1    | 2    | 2    | 2    | 2    | 1.3  | 78   |  30  | 4.4  | 85   | 1    |\n",
       "| 12 | LIVE | 32   | 1    | 2    | 1    | 1    | 2    | 2    | 2    | 1    | 2    | 1    | 2    | 2    | 1.0  | 59   | 249  | 3.7  | 54   | 1    |\n",
       "| 13 | LIVE | 41   | 1    | 2    | 1    | 1    | 2    | 2    | 2    | 1    | 2    | 2    | 2    | 2    | 0.9  | 81   |  60  | 3.9  | 52   | 1    |\n",
       "| 14 | LIVE | 30   | 1    | 2    | 2    | 1    | 2    | 2    | 2    | 1    | 2    | 2    | 2    | 2    | 2.2  | 57   | 144  | 4.9  | 78   | 1    |\n",
       "| 16 | LIVE | 38   | 1    | 1    | 2    | 1    | 1    | 1    | 2    | 2    | 2    | 2    | 1    | 2    | 2.0  | 72   |  89  | 2.9  | 46   | 1    |\n",
       "\n"
      ],
      "text/plain": [
       "   Class AGE SEX STEROID ANTIVIRALS FATIGUE MALAISE ANOREXIA LIVER_BIG\n",
       "6  LIVE  34  1   2       2          2       2       2        2        \n",
       "11 LIVE  39  1   1       1          2       2       2        1        \n",
       "12 LIVE  32  1   2       1          1       2       2        2        \n",
       "13 LIVE  41  1   2       1          1       2       2        2        \n",
       "14 LIVE  30  1   2       2          1       2       2        2        \n",
       "16 LIVE  38  1   1       2          1       1       1        2        \n",
       "   LIVER_FIRM SPLEEN_PALPABLE SPIDERS ASCITES VARICES BILIRUBIN ALK_PHOSPHATE\n",
       "6  2          2               2       2       2       0.9       95           \n",
       "11 1          2               2       2       2       1.3       78           \n",
       "12 1          2               1       2       2       1.0       59           \n",
       "13 1          2               2       2       2       0.9       81           \n",
       "14 1          2               2       2       2       2.2       57           \n",
       "16 2          2               2       1       2       2.0       72           \n",
       "   SGOT ALBUMIN PROTIME HISTOLOGY\n",
       "6   28  4.0     75      1        \n",
       "11  30  4.4     85      1        \n",
       "12 249  3.7     54      1        \n",
       "13  60  3.9     52      1        \n",
       "14 144  4.9     78      1        \n",
       "16  89  2.9     46      1        "
      ]
     },
     "metadata": {},
     "output_type": "display_data"
    }
   ],
   "source": [
    "head(na.omit(hepa))"
   ]
  },
  {
   "cell_type": "markdown",
   "metadata": {},
   "source": [
    "###  Varianzas"
   ]
  },
  {
   "cell_type": "code",
   "execution_count": 15,
   "metadata": {},
   "outputs": [
    {
     "data": {
      "text/html": [
       "1.90929167422456"
      ],
      "text/latex": [
       "1.90929167422456"
      ],
      "text/markdown": [
       "1.90929167422456"
      ],
      "text/plain": [
       "[1] 1.909292"
      ]
     },
     "metadata": {},
     "output_type": "display_data"
    }
   ],
   "source": [
    "var (hepa$AGE, hepa$BILIRUBIN, use = \"complete.obs\")"
   ]
  },
  {
   "cell_type": "code",
   "execution_count": 16,
   "metadata": {},
   "outputs": [
    {
     "data": {
      "text/html": [
       "157.901298701299"
      ],
      "text/latex": [
       "157.901298701299"
      ],
      "text/markdown": [
       "157.901298701299"
      ],
      "text/plain": [
       "[1] 157.9013"
      ]
     },
     "metadata": {},
     "output_type": "display_data"
    }
   ],
   "source": [
    "var (hepa$AGE, hepa$ALK_PHSPHATE, use = \"complete.obs\")"
   ]
  },
  {
   "cell_type": "code",
   "execution_count": 17,
   "metadata": {},
   "outputs": [
    {
     "data": {
      "text/html": [
       "92.5183664459161"
      ],
      "text/latex": [
       "92.5183664459161"
      ],
      "text/markdown": [
       "92.5183664459161"
      ],
      "text/plain": [
       "[1] 92.51837"
      ]
     },
     "metadata": {},
     "output_type": "display_data"
    }
   ],
   "source": [
    "var (hepa$AGE, hepa$SGOT, use = \"complete.obs\")"
   ]
  },
  {
   "cell_type": "code",
   "execution_count": 18,
   "metadata": {},
   "outputs": [
    {
     "data": {
      "text/html": [
       "-2.12900636012929"
      ],
      "text/latex": [
       "-2.12900636012929"
      ],
      "text/markdown": [
       "-2.12900636012929"
      ],
      "text/plain": [
       "[1] -2.129006"
      ]
     },
     "metadata": {},
     "output_type": "display_data"
    }
   ],
   "source": [
    "var (hepa$AGE, hepa$ALBUMIN, use = \"complete.obs\")"
   ]
  },
  {
   "cell_type": "code",
   "execution_count": 19,
   "metadata": {},
   "outputs": [
    {
     "data": {
      "text/html": [
       "-58.6319226750261"
      ],
      "text/latex": [
       "-58.6319226750261"
      ],
      "text/markdown": [
       "-58.6319226750261"
      ],
      "text/plain": [
       "[1] -58.63192"
      ]
     },
     "metadata": {},
     "output_type": "display_data"
    }
   ],
   "source": [
    "var (hepa$AGE, hepa$PROTIME, use = \"complete.obs\")"
   ]
  },
  {
   "cell_type": "markdown",
   "metadata": {},
   "source": [
    "###  Covarianzas"
   ]
  },
  {
   "cell_type": "code",
   "execution_count": 20,
   "metadata": {},
   "outputs": [
    {
     "data": {
      "text/html": [
       "1.90929167422456"
      ],
      "text/latex": [
       "1.90929167422456"
      ],
      "text/markdown": [
       "1.90929167422456"
      ],
      "text/plain": [
       "[1] 1.909292"
      ]
     },
     "metadata": {},
     "output_type": "display_data"
    }
   ],
   "source": [
    "cov(hepa$AGE, hepa$BILIRUBIN, use = \"complete.obs\")"
   ]
  },
  {
   "cell_type": "code",
   "execution_count": 21,
   "metadata": {},
   "outputs": [
    {
     "data": {
      "text/html": [
       "5.80177777777778"
      ],
      "text/latex": [
       "5.80177777777778"
      ],
      "text/markdown": [
       "5.80177777777778"
      ],
      "text/plain": [
       "[1] 5.801778"
      ]
     },
     "metadata": {},
     "output_type": "display_data"
    }
   ],
   "source": [
    "cov(hepa$AGE, hepa$ALK_PHOSPHATE, use = \"complete.obs\")"
   ]
  },
  {
   "cell_type": "code",
   "execution_count": 22,
   "metadata": {},
   "outputs": [
    {
     "data": {
      "text/html": [
       "92.5183664459161"
      ],
      "text/latex": [
       "92.5183664459161"
      ],
      "text/markdown": [
       "92.5183664459161"
      ],
      "text/plain": [
       "[1] 92.51837"
      ]
     },
     "metadata": {},
     "output_type": "display_data"
    }
   ],
   "source": [
    "cov(hepa$AGE, hepa$SGOT, use = \"complete.obs\")"
   ]
  },
  {
   "cell_type": "code",
   "execution_count": 23,
   "metadata": {},
   "outputs": [
    {
     "data": {
      "text/html": [
       "-2.12900636012929"
      ],
      "text/latex": [
       "-2.12900636012929"
      ],
      "text/markdown": [
       "-2.12900636012929"
      ],
      "text/plain": [
       "[1] -2.129006"
      ]
     },
     "metadata": {},
     "output_type": "display_data"
    }
   ],
   "source": [
    "cov(hepa$AGE, hepa$ALBUMIN, use = \"complete.obs\")"
   ]
  },
  {
   "cell_type": "code",
   "execution_count": 24,
   "metadata": {},
   "outputs": [
    {
     "data": {
      "text/html": [
       "-58.6319226750261"
      ],
      "text/latex": [
       "-58.6319226750261"
      ],
      "text/markdown": [
       "-58.6319226750261"
      ],
      "text/plain": [
       "[1] -58.63192"
      ]
     },
     "metadata": {},
     "output_type": "display_data"
    }
   ],
   "source": [
    "cov(hepa$AGE, hepa$PROTIME, use = \"complete.obs\")"
   ]
  },
  {
   "cell_type": "markdown",
   "metadata": {},
   "source": [
    "###  Desviaciones estándar"
   ]
  },
  {
   "cell_type": "code",
   "execution_count": 25,
   "metadata": {},
   "outputs": [
    {
     "data": {
      "text/html": [
       "12.5658783497732"
      ],
      "text/latex": [
       "12.5658783497732"
      ],
      "text/markdown": [
       "12.5658783497732"
      ],
      "text/plain": [
       "[1] 12.56588"
      ]
     },
     "metadata": {},
     "output_type": "display_data"
    }
   ],
   "source": [
    "sd(hepa$AGE)"
   ]
  },
  {
   "cell_type": "code",
   "execution_count": 26,
   "metadata": {},
   "outputs": [
    {
     "data": {
      "text/html": [
       "1.21214903309486"
      ],
      "text/latex": [
       "1.21214903309486"
      ],
      "text/markdown": [
       "1.21214903309486"
      ],
      "text/plain": [
       "[1] 1.212149"
      ]
     },
     "metadata": {},
     "output_type": "display_data"
    }
   ],
   "source": [
    "sd(hepa$BILIRUBIN, na.rm=TRUE)"
   ]
  },
  {
   "cell_type": "code",
   "execution_count": 27,
   "metadata": {},
   "outputs": [
    {
     "data": {
      "text/html": [
       "51.5081087775631"
      ],
      "text/latex": [
       "51.5081087775631"
      ],
      "text/markdown": [
       "51.5081087775631"
      ],
      "text/plain": [
       "[1] 51.50811"
      ]
     },
     "metadata": {},
     "output_type": "display_data"
    }
   ],
   "source": [
    "sd(hepa$ALK_PHOSPHATE,na.rm=TRUE)"
   ]
  },
  {
   "cell_type": "code",
   "execution_count": 28,
   "metadata": {},
   "outputs": [
    {
     "data": {
      "text/html": [
       "89.6508897385022"
      ],
      "text/latex": [
       "89.6508897385022"
      ],
      "text/markdown": [
       "89.6508897385022"
      ],
      "text/plain": [
       "[1] 89.65089"
      ]
     },
     "metadata": {},
     "output_type": "display_data"
    }
   ],
   "source": [
    "sd(hepa$SGOT,na.rm=TRUE)"
   ]
  },
  {
   "cell_type": "code",
   "execution_count": 29,
   "metadata": {},
   "outputs": [
    {
     "data": {
      "text/html": [
       "0.651523082616213"
      ],
      "text/latex": [
       "0.651523082616213"
      ],
      "text/markdown": [
       "0.651523082616213"
      ],
      "text/plain": [
       "[1] 0.6515231"
      ]
     },
     "metadata": {},
     "output_type": "display_data"
    }
   ],
   "source": [
    "sd(hepa$ALBUMIN,na.rm=TRUE)"
   ]
  },
  {
   "cell_type": "code",
   "execution_count": 30,
   "metadata": {},
   "outputs": [
    {
     "data": {
      "text/html": [
       "22.8752437448114"
      ],
      "text/latex": [
       "22.8752437448114"
      ],
      "text/markdown": [
       "22.8752437448114"
      ],
      "text/plain": [
       "[1] 22.87524"
      ]
     },
     "metadata": {},
     "output_type": "display_data"
    }
   ],
   "source": [
    "sd(hepa$PROTIME,na.rm=TRUE)"
   ]
  },
  {
   "cell_type": "markdown",
   "metadata": {},
   "source": [
    "###  Correlaciones"
   ]
  },
  {
   "cell_type": "code",
   "execution_count": 31,
   "metadata": {},
   "outputs": [
    {
     "data": {
      "text/html": [
       "0.125462694693377"
      ],
      "text/latex": [
       "0.125462694693377"
      ],
      "text/markdown": [
       "0.125462694693377"
      ],
      "text/plain": [
       "[1] 0.1254627"
      ]
     },
     "metadata": {},
     "output_type": "display_data"
    }
   ],
   "source": [
    "cor(hepa$AGE, hepa$BILIRUBIN, use = \"complete.obs\")"
   ]
  },
  {
   "cell_type": "code",
   "execution_count": 32,
   "metadata": {},
   "outputs": [
    {
     "data": {
      "text/html": [
       "0.00892378556205966"
      ],
      "text/latex": [
       "0.00892378556205966"
      ],
      "text/markdown": [
       "0.00892378556205966"
      ],
      "text/plain": [
       "[1] 0.008923786"
      ]
     },
     "metadata": {},
     "output_type": "display_data"
    }
   ],
   "source": [
    "cor(hepa$AGE, hepa$ALK_PHOSPHATE, use = \"complete.obs\")"
   ]
  },
  {
   "cell_type": "code",
   "execution_count": 33,
   "metadata": {},
   "outputs": [
    {
     "data": {
      "text/html": [
       "0.0825446665218075"
      ],
      "text/latex": [
       "0.0825446665218075"
      ],
      "text/markdown": [
       "0.0825446665218075"
      ],
      "text/plain": [
       "[1] 0.08254467"
      ]
     },
     "metadata": {},
     "output_type": "display_data"
    }
   ],
   "source": [
    "cor(hepa$AGE, hepa$SGOT, use = \"complete.obs\")"
   ]
  },
  {
   "cell_type": "code",
   "execution_count": 34,
   "metadata": {},
   "outputs": [
    {
     "data": {
      "text/html": [
       "-0.262980509645273"
      ],
      "text/latex": [
       "-0.262980509645273"
      ],
      "text/markdown": [
       "-0.262980509645273"
      ],
      "text/plain": [
       "[1] -0.2629805"
      ]
     },
     "metadata": {},
     "output_type": "display_data"
    }
   ],
   "source": [
    "cor(hepa$AGE, hepa$ALBUMIN, use = \"complete.obs\")"
   ]
  },
  {
   "cell_type": "code",
   "execution_count": 35,
   "metadata": {},
   "outputs": [
    {
     "data": {
      "text/html": [
       "-0.222232521540532"
      ],
      "text/latex": [
       "-0.222232521540532"
      ],
      "text/markdown": [
       "-0.222232521540532"
      ],
      "text/plain": [
       "[1] -0.2222325"
      ]
     },
     "metadata": {},
     "output_type": "display_data"
    }
   ],
   "source": [
    "cor(hepa$AGE, hepa$PROTIME, use = \"complete.obs\")"
   ]
  },
  {
   "cell_type": "code",
   "execution_count": 36,
   "metadata": {},
   "outputs": [
    {
     "data": {
      "text/html": [
       "0.090394300344249"
      ],
      "text/latex": [
       "0.090394300344249"
      ],
      "text/markdown": [
       "0.090394300344249"
      ],
      "text/plain": [
       "[1] 0.0903943"
      ]
     },
     "metadata": {},
     "output_type": "display_data"
    }
   ],
   "source": [
    "cor(hepa$AGE, hepa$ANOREXIA,use = \"complete.obs\")"
   ]
  }
 ],
 "metadata": {
  "kernelspec": {
   "display_name": "R",
   "language": "R",
   "name": "ir"
  },
  "language_info": {
   "codemirror_mode": "r",
   "file_extension": ".r",
   "mimetype": "text/x-r-source",
   "name": "R",
   "pygments_lexer": "r",
   "version": "3.6.1"
  }
 },
 "nbformat": 4,
 "nbformat_minor": 4
}
